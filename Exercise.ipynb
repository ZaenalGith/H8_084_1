{
 "cells": [
  {
   "cell_type": "markdown",
   "metadata": {},
   "source": [
    "Soal 1. Ganjil Genap"
   ]
  },
  {
   "cell_type": "code",
   "execution_count": 10,
   "metadata": {},
   "outputs": [
    {
     "name": "stdout",
     "output_type": "stream",
     "text": [
      "Masukan angka :0\n",
      " Angka 0 bukanlah bilangan ganjil atau genap\n"
     ]
    }
   ],
   "source": [
    "angka = int(input(\"Masukan angka :\"))\n",
    "\n",
    "if angka == 0 :\n",
    "    print (\" Angka\", angka, \"bukanlah bilangan ganjil atau genap\")\n",
    "elif angka <= 0:\n",
    "    print (\" Angka\" , angka, \"merupakan Bilangan NEGATIVE\" )\n",
    "elif angka % 2 == 0:\n",
    "    print(\" Angka\" , angka, \" merupakan Bilangan GENAP\")\n",
    "else:\n",
    "    print(\" Angka\" , angka, \" merupakan Bilangan GANJIL\")"
   ]
  },
  {
   "cell_type": "markdown",
   "metadata": {},
   "source": [
    "Soal 2. Menghitung Luas"
   ]
  },
  {
   "cell_type": "code",
   "execution_count": 12,
   "metadata": {},
   "outputs": [
    {
     "name": "stdout",
     "output_type": "stream",
     "text": [
      "==================================\n",
      "Menghitung Luas Segitiga & Persegi\n",
      "1. Menghitung Luas Segitiga\n",
      "2. Menghitung Luas Persegi\n",
      "==================================\n",
      "Pilihan Menu Yang diInginkan :2\n",
      "Menghitung Luas Persegi\n",
      "==================================\n",
      "Masukan Sisi Persegi : 2\n",
      "Luas Persegi Tersebut adalah 4\n"
     ]
    }
   ],
   "source": [
    "def menu() :\n",
    "    print('==================================')\n",
    "    print('Menghitung Luas Segitiga & Persegi')\n",
    "    print('1. Menghitung Luas Segitiga')\n",
    "    print('2. Menghitung Luas Persegi')\n",
    "\n",
    "def segitiga():\n",
    "    print('==================================')\n",
    "    print('Menghitung Luas Segitiga')\n",
    "    a = int(input('Masukan Alas Segitiga : '))\n",
    "    t = int(input('Masukan Tinggi Segitiga :'))\n",
    "    Luas = (a*t)/2\n",
    "    print('Luas Segitiga Tersebut adalah', Luas)\n",
    "    \n",
    "def persegi():\n",
    "    print('Menghitung Luas Persegi')\n",
    "    print('==================================')\n",
    "    s = int(input('Masukan Sisi Persegi : '))\n",
    "    Luas = s*s\n",
    "    print('Luas Persegi Tersebut adalah', Luas)\n",
    "    \n",
    "menu()\n",
    "print('==================================')\n",
    "\n",
    "pilih=int(input('Pilihan Menu Yang diInginkan :'))\n",
    "if pilih == 1 :\n",
    "    segitiga()\n",
    "elif pilih == 2 :\n",
    "    persegi()\n",
    "else :\n",
    "    print ('Yang Anda Masukan Tidak Ada di Menu')\n",
    "\n"
   ]
  },
  {
   "cell_type": "markdown",
   "metadata": {},
   "source": [
    "Soal 3. Menghitung Hari"
   ]
  },
  {
   "cell_type": "code",
   "execution_count": 13,
   "metadata": {},
   "outputs": [
    {
     "name": "stdout",
     "output_type": "stream",
     "text": [
      "Masukkan Jumlah Hari: 367\n",
      "\n",
      "367 hari = 1 Tahun 0 bulan 1 minggu 0 hari\n"
     ]
    }
   ],
   "source": [
    "import math\n",
    "\n",
    "jumlah_hari = int(input(\"Masukkan Jumlah Hari: \"))\n",
    "\n",
    "tahun = math.floor(jumlah_hari/360)\n",
    "bulan = math.floor((jumlah_hari - (tahun*360)) / 30)\n",
    "minggu = math.floor ((jumlah_hari - (tahun *360)-(30*bulan))/7)\n",
    "hari = math.floor(jumlah_hari - (minggu*7)-(tahun *360)-(30*bulan))\n",
    "\n",
    "print()\n",
    "print(jumlah_hari,\"hari =\",tahun,\"Tahun\",bulan,\"bulan\",minggu,\"minggu\",hari,\"hari\")"
   ]
  },
  {
   "cell_type": "code",
   "execution_count": null,
   "metadata": {},
   "outputs": [],
   "source": []
  }
 ],
 "metadata": {
  "kernelspec": {
   "display_name": "Python 3",
   "language": "python",
   "name": "python3"
  },
  "language_info": {
   "codemirror_mode": {
    "name": "ipython",
    "version": 3
   },
   "file_extension": ".py",
   "mimetype": "text/x-python",
   "name": "python",
   "nbconvert_exporter": "python",
   "pygments_lexer": "ipython3",
   "version": "3.8.5"
  }
 },
 "nbformat": 4,
 "nbformat_minor": 4
}
